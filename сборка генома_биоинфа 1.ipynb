{
 "cells": [
  {
   "cell_type": "markdown",
   "id": "9ce10620-5649-4c3d-99e9-6ad41ec035e9",
   "metadata": {},
   "source": [
    "### Анализ полученных контигов"
   ]
  },
  {
   "cell_type": "code",
   "execution_count": 1,
   "id": "53e84a69-1765-4262-bf9e-1b5c602d3ad7",
   "metadata": {},
   "outputs": [
    {
     "name": "stdout",
     "output_type": "stream",
     "text": [
      "Общее количество контигов: 502\n",
      "Общая длина контигов: 3921867\n",
      "Длина самого длинного контига: 240663\n",
      "N50: 115749\n"
     ]
    }
   ],
   "source": [
    "from Bio import SeqIO\n",
    "\n",
    "def analyze_contigs(contig_file):\n",
    "    contig_lengths = []\n",
    "    \n",
    "    for record in SeqIO.parse(contig_file, \"fasta\"):\n",
    "        contig_lengths.append(len(record.seq))\n",
    "    \n",
    "    total_contigs = len(contig_lengths)\n",
    "    total_length = sum(contig_lengths)\n",
    "    longest_contig = max(contig_lengths)\n",
    "    \n",
    "    #N50\n",
    "    contig_lengths_sorted = sorted(contig_lengths, reverse=True)\n",
    "    half_length = total_length / 2\n",
    "    running_length = 0\n",
    "    for length in contig_lengths_sorted:\n",
    "        running_length += length\n",
    "        if running_length >= half_length:\n",
    "            N50 = length\n",
    "            break\n",
    "    \n",
    "    return total_contigs, total_length, longest_contig, N50\n",
    "\n",
    "contig_file = \"contigs.fasta\"\n",
    "\n",
    "total_contigs, total_length, longest_contig, N50 = analyze_contigs(contig_file)\n",
    "\n",
    "print(f\"Общее количество контигов: {total_contigs}\")\n",
    "print(f\"Общая длина контигов: {total_length}\")\n",
    "print(f\"Длина самого длинного контига: {longest_contig}\")\n",
    "print(f\"N50: {N50}\")\n"
   ]
  },
  {
   "cell_type": "markdown",
   "id": "65292c1b-c329-4513-8845-e0797be47683",
   "metadata": {},
   "source": [
    "### Анализ полученных скаффолдов"
   ]
  },
  {
   "cell_type": "code",
   "execution_count": 2,
   "id": "57a1e3cc-f14c-45f9-b389-bd6cc4e69b4c",
   "metadata": {},
   "outputs": [
    {
     "name": "stdout",
     "output_type": "stream",
     "text": [
      "Общее количество скаффолдов: 83\n",
      "Общая длина скаффолдов: 3876570\n",
      "Длина самого длинного скаффолда: 3834495\n",
      "N50: 3834495\n"
     ]
    }
   ],
   "source": [
    "def analyze_scaffolds(scaffold_file):\n",
    "    scaffold_lengths = []\n",
    "    \n",
    "    for record in SeqIO.parse(scaffold_file, \"fasta\"):\n",
    "        scaffold_lengths.append(len(record.seq))\n",
    "    \n",
    "    total_scaffolds = len(scaffold_lengths)\n",
    "    total_length = sum(scaffold_lengths)\n",
    "    longest_scaffold = max(scaffold_lengths)\n",
    "    \n",
    "    #N50\n",
    "    scaffold_lengths_sorted = sorted(scaffold_lengths, reverse=True)\n",
    "    half_length = total_length / 2\n",
    "    running_length = 0\n",
    "    for length in scaffold_lengths_sorted:\n",
    "        running_length += length\n",
    "        if running_length >= half_length:\n",
    "            N50 = length\n",
    "            break\n",
    "    \n",
    "    return total_scaffolds, total_length, longest_scaffold, N50\n",
    "\n",
    "scaffold_file = \"platanus_scaffold.fa\"\n",
    "\n",
    "total_scaffolds, total_length, longest_scaffold, N50 = analyze_scaffolds(scaffold_file)\n",
    "\n",
    "print(f\"Общее количество скаффолдов: {total_scaffolds}\")\n",
    "print(f\"Общая длина скаффолдов: {total_length}\")\n",
    "print(f\"Длина самого длинного скаффолда: {longest_scaffold}\")\n",
    "print(f\"N50: {N50}\")"
   ]
  },
  {
   "cell_type": "markdown",
   "id": "48434049-18ef-42db-b4a4-2f56f9f650ec",
   "metadata": {},
   "source": [
    "### Количество гэпов и их общая длина до уменьшения гэпов с помощью подрезанных чтений\n"
   ]
  },
  {
   "cell_type": "code",
   "execution_count": 7,
   "id": "79608894-97a6-48ea-bed8-7049c3c7bfbb",
   "metadata": {},
   "outputs": [
    {
     "name": "stdout",
     "output_type": "stream",
     "text": [
      "Название самого длинного скаффолда: scaffold3_len3834421_cov273\n",
      "Количество гэпов: 46\n",
      "Общая длина гэпов: 6642\n"
     ]
    }
   ],
   "source": [
    "scaffold = ''\n",
    "scaffold_id = ''\n",
    "for record in SeqIO.parse('platanus_scaffold.fa', 'fasta'):\n",
    "    if len(record.seq) > len(scaffold):\n",
    "        scaffold = record.seq\n",
    "        scaffold_id = record.id \n",
    "\n",
    "scaffold_str = str(scaffold)\n",
    "\n",
    "#Гэпы\n",
    "gap_list = ('0' + scaffold_str + '0').split('N')\n",
    "gap_count = 0\n",
    "for gap in gap_list:\n",
    "    if gap != '':\n",
    "        gap_count += 1\n",
    "print(f'Название самого длинного скаффолда: {scaffold_id}')\n",
    "print('Количество гэпов:', gap_count - 1)  \n",
    "\n",
    "#Общая длина гэпов\n",
    "gap_length = scaffold_str.count('N')\n",
    "print('Общая длина гэпов:', gap_length)"
   ]
  },
  {
   "cell_type": "markdown",
   "id": "303c420f-fe4d-44de-a3fd-a1d42d9acf82",
   "metadata": {},
   "source": [
    "### Количество гэпов и их общая длина после программы platanus gap_close"
   ]
  },
  {
   "cell_type": "code",
   "execution_count": 6,
   "id": "7c043730-e352-4e4b-b034-21cac65cb8eb",
   "metadata": {},
   "outputs": [
    {
     "name": "stdout",
     "output_type": "stream",
     "text": [
      "Название самого длинного скаффолда: scaffold3_cov273\n",
      "Количество гэпов: 12\n",
      "Общая длина гэпов: 3373\n"
     ]
    }
   ],
   "source": [
    "scaffold = ''\n",
    "scaffold_id = ''\n",
    "for record in SeqIO.parse('platanus_gapClosed.fa', 'fasta'):\n",
    "    if len(record.seq) > len(scaffold):\n",
    "        scaffold = record.seq\n",
    "        scaffold_id = record.id \n",
    "\n",
    "scaffold_str = str(scaffold)\n",
    "\n",
    "#Гэпы\n",
    "gap_list = ('0' + scaffold_str + '0').split('N')\n",
    "gap_count = 0\n",
    "for gap in gap_list:\n",
    "    if gap != '':\n",
    "        gap_count += 1\n",
    "print(f'Название самого длинного скаффолда: {scaffold_id}')\n",
    "print('Количество гэпов:', gap_count - 1)  \n",
    "\n",
    "#Общая длина гэпов\n",
    "gap_length = scaffold_str.count('N')\n",
    "print('Общая длина гэпов:', gap_length)"
   ]
  },
  {
   "cell_type": "code",
   "execution_count": null,
   "id": "efb3165e-7e2b-493d-8f8b-61a67bd7a698",
   "metadata": {},
   "outputs": [],
   "source": []
  },
  {
   "cell_type": "markdown",
   "id": "b76e9147-35ac-4c69-9144-9b20a0eea9fb",
   "metadata": {},
   "source": [
    "## Бонусная часть"
   ]
  },
  {
   "cell_type": "markdown",
   "id": "158e8249-2fe8-49da-bffc-3fff10fec55f",
   "metadata": {},
   "source": [
    "### Анализ полученных контигов"
   ]
  },
  {
   "cell_type": "code",
   "execution_count": 1,
   "id": "dfe47949-28a1-481e-9c8f-7f20fa09d315",
   "metadata": {},
   "outputs": [
    {
     "name": "stdout",
     "output_type": "stream",
     "text": [
      "Общее количество контигов: 927\n",
      "Общая длина контигов: 3920258\n",
      "Длина самого длинного контига: 261871\n",
      "N50: 85688\n"
     ]
    }
   ],
   "source": [
    "from Bio import SeqIO\n",
    "\n",
    "def analyze_contigs(contig_file):\n",
    "    contig_lengths = []\n",
    "    \n",
    "    for record in SeqIO.parse(contig_file, \"fasta\"):\n",
    "        contig_lengths.append(len(record.seq))\n",
    "    \n",
    "    total_contigs = len(contig_lengths)\n",
    "    total_length = sum(contig_lengths)\n",
    "    longest_contig = max(contig_lengths)\n",
    "    \n",
    "    #N50\n",
    "    contig_lengths_sorted = sorted(contig_lengths, reverse=True)\n",
    "    half_length = total_length / 2\n",
    "    running_length = 0\n",
    "    for length in contig_lengths_sorted:\n",
    "        running_length += length\n",
    "        if running_length >= half_length:\n",
    "            N50 = length\n",
    "            break\n",
    "    \n",
    "    return total_contigs, total_length, longest_contig, N50\n",
    "\n",
    "contig_file = \"platanus_small_contig.fa\"\n",
    "\n",
    "total_contigs, total_length, longest_contig, N50 = analyze_contigs(contig_file)\n",
    "\n",
    "print(f\"Общее количество контигов: {total_contigs}\")\n",
    "print(f\"Общая длина контигов: {total_length}\")\n",
    "print(f\"Длина самого длинного контига: {longest_contig}\")\n",
    "print(f\"N50: {N50}\")"
   ]
  },
  {
   "cell_type": "markdown",
   "id": "e401272a-6996-44bd-8b09-ed27f5bd9c7f",
   "metadata": {},
   "source": [
    "### Анализ полученных скаффолдов"
   ]
  },
  {
   "cell_type": "code",
   "execution_count": 3,
   "id": "12bdfa78-dd4a-4629-812d-3940c9ef9d15",
   "metadata": {},
   "outputs": [
    {
     "name": "stdout",
     "output_type": "stream",
     "text": [
      "Общее количество скаффолдов: 118\n",
      "Общая длина скаффолдов: 3857730\n",
      "Длина самого длинного скаффолда: 2077460\n",
      "N50: 2077460\n"
     ]
    }
   ],
   "source": [
    "def analyze_scaffolds(scaffold_file):\n",
    "    scaffold_lengths = []\n",
    "    \n",
    "    for record in SeqIO.parse(scaffold_file, \"fasta\"):\n",
    "        scaffold_lengths.append(len(record.seq))\n",
    "    \n",
    "    total_scaffolds = len(scaffold_lengths)\n",
    "    total_length = sum(scaffold_lengths)\n",
    "    longest_scaffold = max(scaffold_lengths)\n",
    "    \n",
    "    #N50\n",
    "    scaffold_lengths_sorted = sorted(scaffold_lengths, reverse=True)\n",
    "    half_length = total_length / 2\n",
    "    running_length = 0\n",
    "    for length in scaffold_lengths_sorted:\n",
    "        running_length += length\n",
    "        if running_length >= half_length:\n",
    "            N50 = length\n",
    "            break\n",
    "    \n",
    "    return total_scaffolds, total_length, longest_scaffold, N50\n",
    "\n",
    "scaffold_file = \"platanus_small_scaffold.fa\"\n",
    "\n",
    "total_scaffolds, total_length, longest_scaffold, N50 = analyze_scaffolds(scaffold_file)\n",
    "\n",
    "print(f\"Общее количество скаффолдов: {total_scaffolds}\")\n",
    "print(f\"Общая длина скаффолдов: {total_length}\")\n",
    "print(f\"Длина самого длинного скаффолда: {longest_scaffold}\")\n",
    "print(f\"N50: {N50}\")"
   ]
  },
  {
   "cell_type": "markdown",
   "id": "f624cc74-dd19-422e-8f58-0d61d8e6cee2",
   "metadata": {},
   "source": [
    "### Количество гэпов и их общая длина после программы platanus gap_close"
   ]
  },
  {
   "cell_type": "code",
   "execution_count": 5,
   "id": "16dee1de-e7a8-4ddb-a2f8-7a5bd8d4decc",
   "metadata": {},
   "outputs": [
    {
     "name": "stdout",
     "output_type": "stream",
     "text": [
      "Название самого длинного скаффолда: scaffold3_len2077319_cov59\n",
      "Количество гэпов: 47\n",
      "Общая длина гэпов: 6842\n"
     ]
    }
   ],
   "source": [
    "scaffold = ''\n",
    "scaffold_id = ''\n",
    "for record in SeqIO.parse('platanus_small_scaffold.fa', 'fasta'):\n",
    "    if len(record.seq) > len(scaffold):\n",
    "        scaffold = record.seq\n",
    "        scaffold_id = record.id \n",
    "\n",
    "scaffold_str = str(scaffold)\n",
    "\n",
    "#Гэпы\n",
    "gap_list = ('0' + scaffold_str + '0').split('N')\n",
    "gap_count = 0\n",
    "for gap in gap_list:\n",
    "    if gap != '':\n",
    "        gap_count += 1\n",
    "print(f'Название самого длинного скаффолда: {scaffold_id}')\n",
    "print('Количество гэпов:', gap_count - 1)  \n",
    "\n",
    "#Общая длина гэпов\n",
    "gap_length = scaffold_str.count('N')\n",
    "print('Общая длина гэпов:', gap_length)"
   ]
  },
  {
   "cell_type": "code",
   "execution_count": 6,
   "id": "6c04ccfb-1d8f-4c82-b9ed-df04453214f9",
   "metadata": {},
   "outputs": [
    {
     "name": "stdout",
     "output_type": "stream",
     "text": [
      "Название самого длинного скаффолда: scaffold3_cov59\n",
      "Количество гэпов: 22\n",
      "Общая длина гэпов: 4682\n"
     ]
    }
   ],
   "source": [
    "scaffold = ''\n",
    "scaffold_id = ''\n",
    "for record in SeqIO.parse('platanus_small_gapClosed.fa', 'fasta'):\n",
    "    if len(record.seq) > len(scaffold):\n",
    "        scaffold = record.seq\n",
    "        scaffold_id = record.id \n",
    "\n",
    "scaffold_str = str(scaffold)\n",
    "\n",
    "#Гэпы\n",
    "gap_list = ('0' + scaffold_str + '0').split('N')\n",
    "gap_count = 0\n",
    "for gap in gap_list:\n",
    "    if gap != '':\n",
    "        gap_count += 1\n",
    "print(f'Название самого длинного скаффолда: {scaffold_id}')\n",
    "print('Количество гэпов:', gap_count - 1)  \n",
    "\n",
    "#Общая длина гэпов\n",
    "gap_length = scaffold_str.count('N')\n",
    "print('Общая длина гэпов:', gap_length)"
   ]
  },
  {
   "cell_type": "code",
   "execution_count": null,
   "id": "15829ab6-00d5-4033-a17a-e5e2467d93b2",
   "metadata": {},
   "outputs": [],
   "source": []
  }
 ],
 "metadata": {
  "kernelspec": {
   "display_name": "Python 3 (ipykernel)",
   "language": "python",
   "name": "python3"
  },
  "language_info": {
   "codemirror_mode": {
    "name": "ipython",
    "version": 3
   },
   "file_extension": ".py",
   "mimetype": "text/x-python",
   "name": "python",
   "nbconvert_exporter": "python",
   "pygments_lexer": "ipython3",
   "version": "3.12.1"
  }
 },
 "nbformat": 4,
 "nbformat_minor": 5
}
